{
 "cells": [
  {
   "cell_type": "code",
   "execution_count": 14,
   "metadata": {},
   "outputs": [],
   "source": [
    "from datasets import load_dataset\n",
    "import torch\n",
    "import torch.nn as nn\n",
    "import numpy as np\n",
    "\n",
    "ptb = load_dataset('ptb-text-only/ptb_text_only', trust_remote_code=True)\n",
    "\n",
    "train = ptb['train']\n",
    "val = ptb['validation']\n",
    "test = ptb['test']"
   ]
  },
  {
   "cell_type": "code",
   "execution_count": 15,
   "metadata": {},
   "outputs": [],
   "source": [
    "def load_glove_embeddings(glove_file):\n",
    "    glove_embeddings = {}\n",
    "\n",
    "    with open(glove_file, 'r') as f:\n",
    "        for line in f:\n",
    "            values = line.strip().split()\n",
    "            word = values[0]\n",
    "            vector = np.array(values[1:], dtypre=np.float32)\n",
    "            glove_embeddings[word] = vector\n",
    "\n",
    "    return glove_embeddings"
   ]
  },
  {
   "cell_type": "code",
   "execution_count": 10,
   "metadata": {},
   "outputs": [],
   "source": [
    "class LearnedPositionalEncoding(nn.Module):\n",
    "    def __init__(self, d_model, max_len=5000):\n",
    "        super().__init__()\n",
    "        self.pos_embedding = nn.Embedding(max_len, d_model)\n",
    "\n",
    "    def forward(self, x):  # x: (batch, seq_len, d_model)\n",
    "        pos = torch.arange(x.size(1), device=x.device).view(1, x.size(1))  # (1, seq_len)\n",
    "        embedding = self.pos_embedding(pos)  # (1, seq_len, d_model)\n",
    "        return x + embedding    "
   ]
  },
  {
   "cell_type": "code",
   "execution_count": 13,
   "metadata": {},
   "outputs": [],
   "source": [
    "class TransformerLM(nn.Module):\n",
    "    def __init__(self, vocab_size, d_model, n_head, num_layers, dropout=0.1):\n",
    "        super(TransformerLM, self).__init__()\n",
    "        self.embedding = nn.Embedding(vocab_size, d_model)\n",
    "        self.pos_encoding = LearnedPositionalEncoding(d_model)\n",
    "\n",
    "\n",
    "        # Transformer Encoder Layer\n",
    "        encoder_layer = nn.TransformerEncoderLayer(d_model, n_head)\n",
    "        self.transformer_encoder = nn.TransformerEncoder(\n",
    "            nn.TransformerEncoderLayer(\n",
    "                d_model=d_model,\n",
    "                nhead=n_head,\n",
    "                dim_feedforward=2048,\n",
    "                dropout=dropout\n",
    "            ),\n",
    "            num_layers=num_layers\n",
    "        )\n",
    "        \n",
    "        # Output layer\n",
    "        self.fc_out = nn.Linear(d_model, vocab_size)\n",
    "        self.vocab_size = vocab_size\n",
    "\n",
    "    def forward(self, x):   # x: (batch, seq_len)\n",
    "        # Embedding and positional encoding\n",
    "        x = self.embedding(x)   # (batch, seq_len, d_model)\n",
    "        x = self.pos_encoding(x)  # (batch, seq_len, d_model)\n",
    "\n",
    "        mask = nn.Transformer.generate_square_subsequent_mask(x.size(1)).to(x.device)   # (seq_len, seq_len)\n",
    "        out = self.transformer_encoder(x, mask=mask)    # (batch, seq_len, d_model)\n",
    "        \n",
    "        return out"
   ]
  }
 ],
 "metadata": {
  "kernelspec": {
   "display_name": "myenv",
   "language": "python",
   "name": "python3"
  },
  "language_info": {
   "codemirror_mode": {
    "name": "ipython",
    "version": 3
   },
   "file_extension": ".py",
   "mimetype": "text/x-python",
   "name": "python",
   "nbconvert_exporter": "python",
   "pygments_lexer": "ipython3",
   "version": "3.11.10"
  }
 },
 "nbformat": 4,
 "nbformat_minor": 2
}
